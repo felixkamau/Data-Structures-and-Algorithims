{
  "nbformat": 4,
  "nbformat_minor": 0,
  "metadata": {
    "colab": {
      "provenance": [],
      "authorship_tag": "ABX9TyPUKLH1932eFqNMxMLNPrhN",
      "include_colab_link": true
    },
    "kernelspec": {
      "name": "python3",
      "display_name": "Python 3"
    },
    "language_info": {
      "name": "python"
    }
  },
  "cells": [
    {
      "cell_type": "markdown",
      "metadata": {
        "id": "view-in-github",
        "colab_type": "text"
      },
      "source": [
        "<a href=\"https://colab.research.google.com/github/felixkamau/Data-Structures-and-Algorithims/blob/main/Reinforcement_learning.ipynb\" target=\"_parent\"><img src=\"https://colab.research.google.com/assets/colab-badge.svg\" alt=\"Open In Colab\"/></a>"
      ]
    },
    {
      "cell_type": "markdown",
      "source": [
        "# **Reinforcement Learning** \n"
      ],
      "metadata": {
        "id": "bRHhdCyja1OC"
      }
    },
    {
      "cell_type": "markdown",
      "source": [
        "**1.What is *reinforcement learning*: This is a type of machine learning technique that enables an agent to learn in *an interactive enviroment by trial and erroe using feedback from it's action in the enviroment*.**"
      ],
      "metadata": {
        "id": "XgSaqZtAjCX9"
      }
    }
  ]
}